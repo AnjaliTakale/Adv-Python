{
 "cells": [
  {
   "cell_type": "markdown",
   "metadata": {},
   "source": [
    "# Keywords in Python"
   ]
  },
  {
   "cell_type": "markdown",
   "metadata": {},
   "source": [
    "a = 23 - int (any number without decimal)\n",
    "b = 45.7 - float (any number with decimal)\n",
    "c = \"example\" - str (contains characters, numbers and symbol)\n",
    "d = True / False - Boolean\n",
    "e = [1, 2, 3, False, \"Example\"] - list\n",
    "f = (4, 5.6, True, \"Example\") - tuple\n",
    "g = {key1: value1, key2: value2, ...} - dict\n",
    "h = {value1, value2, value3, ...} - set will store only unique values"
   ]
  },
  {
   "cell_type": "code",
   "execution_count": 1,
   "metadata": {},
   "outputs": [],
   "source": [
    "a={\n",
    "    \"name\":\"Anjali\",\n",
    "    \"age\":22,\n",
    "    \"education\":\"BSC-IT\"\n",
    "}"
   ]
  },
  {
   "cell_type": "code",
   "execution_count": 2,
   "metadata": {},
   "outputs": [
    {
     "data": {
      "text/plain": [
       "dict"
      ]
     },
     "execution_count": 2,
     "metadata": {},
     "output_type": "execute_result"
    }
   ],
   "source": [
    "type(a)"
   ]
  },
  {
   "cell_type": "code",
   "execution_count": 3,
   "metadata": {},
   "outputs": [
    {
     "data": {
      "text/plain": [
       "dict_keys(['name', 'age', 'education'])"
      ]
     },
     "execution_count": 3,
     "metadata": {},
     "output_type": "execute_result"
    }
   ],
   "source": [
    "a.keys()"
   ]
  },
  {
   "cell_type": "code",
   "execution_count": 4,
   "metadata": {},
   "outputs": [
    {
     "data": {
      "text/plain": [
       "dict_values(['Anjali', 22, 'BSC-IT'])"
      ]
     },
     "execution_count": 4,
     "metadata": {},
     "output_type": "execute_result"
    }
   ],
   "source": [
    "a.values()"
   ]
  },
  {
   "cell_type": "code",
   "execution_count": 5,
   "metadata": {},
   "outputs": [
    {
     "name": "stdout",
     "output_type": "stream",
     "text": [
      "name: Anjali\n",
      "age: 22\n",
      "education: BSC-IT\n"
     ]
    }
   ],
   "source": [
    "for key,value in a.items():\n",
    "    print(f\"{key}: {value}\")"
   ]
  },
  {
   "cell_type": "code",
   "execution_count": 8,
   "metadata": {},
   "outputs": [],
   "source": [
    "def function(**kwargs):\n",
    "    print(kwargs)\n",
    "    print(type(kwargs))\n",
    "    for key, value in kwargs.items():\n",
    "        print(f\"{key} : {value}\")   "
   ]
  },
  {
   "cell_type": "code",
   "execution_count": 9,
   "metadata": {},
   "outputs": [
    {
     "name": "stdout",
     "output_type": "stream",
     "text": [
      "{'name': 'Sarthak', 'age': 23}\n",
      "<class 'dict'>\n",
      "name : Sarthak\n",
      "age : 23\n"
     ]
    }
   ],
   "source": [
    "function(name=\"Sarthak\", age=23)"
   ]
  },
  {
   "cell_type": "code",
   "execution_count": 10,
   "metadata": {},
   "outputs": [
    {
     "name": "stdout",
     "output_type": "stream",
     "text": [
      "{'emp_id': 101, 'name': 'Aditi', 'dept': 'HR', 'married': True}\n",
      "<class 'dict'>\n",
      "emp_id : 101\n",
      "name : Aditi\n",
      "dept : HR\n",
      "married : True\n"
     ]
    }
   ],
   "source": [
    "function(emp_id=101, name=\"Aditi\", dept=\"HR\", married=True)"
   ]
  },
  {
   "cell_type": "markdown",
   "metadata": {},
   "source": [
    "# Example consider a restauraunt menu, condier menu is provided with taxes included in a dictionary"
   ]
  },
  {
   "cell_type": "code",
   "execution_count": 7,
   "metadata": {},
   "outputs": [],
   "source": [
    "menu ={\n",
    "    \"burger\":120,\n",
    "    \"pasta\":200,\n",
    "    \"pizza\":300,\n",
    "    \"fries\":60,\n",
    "    \"sandwich\":80\n",
    "}"
   ]
  },
  {
   "cell_type": "code",
   "execution_count": 8,
   "metadata": {},
   "outputs": [
    {
     "data": {
      "text/plain": [
       "120"
      ]
     },
     "execution_count": 8,
     "metadata": {},
     "output_type": "execute_result"
    }
   ],
   "source": [
    "menu.get(\"burger\")"
   ]
  },
  {
   "cell_type": "code",
   "execution_count": 9,
   "metadata": {},
   "outputs": [
    {
     "name": "stdout",
     "output_type": "stream",
     "text": [
      "None\n"
     ]
    }
   ],
   "source": [
    "print(menu.get(\"maggie\"))"
   ]
  },
  {
   "cell_type": "markdown",
   "metadata": {},
   "source": [
    "hotel_bill(table_no=1, burgers=3, sandwich=2, fries=1)"
   ]
  },
  {
   "cell_type": "code",
   "execution_count": 10,
   "metadata": {},
   "outputs": [],
   "source": [
    "def hotel_bill(table_no,**kwargs):\n",
    "    # Print table number\n",
    "    print(f\"Table number-{table_no}\")\n",
    "    #Intialize total amount to 0\n",
    "    amt = 0\n",
    "    # Apply for loop on kwargs\n",
    "    for food,qty in kwargs.items():\n",
    "        price = menu.get(food)\n",
    "        if price is not None:\n",
    "            subtotal = price*qty\n",
    "            amt +=subtotal\n",
    "            print(f\"food item - {food}, qty-{qty},price-{price} INR,subtotal-{subtotal}\")\n",
    "    # show the final bill\n",
    "    print(f\"final Bill is:{amt} INR\")\n",
    "    return amt"
   ]
  },
  {
   "cell_type": "code",
   "execution_count": 12,
   "metadata": {},
   "outputs": [
    {
     "name": "stdout",
     "output_type": "stream",
     "text": [
      "Table number-1\n",
      "food item - burger, qty-2,price-120 INR,subtotal-240\n",
      "food item - pizza, qty-2,price-300 INR,subtotal-600\n",
      "final Bill is:840 INR\n"
     ]
    }
   ],
   "source": [
    "c1=hotel_bill(\n",
    "    table_no=1,\n",
    "    burger=2,\n",
    "    pizza=2\n",
    ")"
   ]
  },
  {
   "cell_type": "code",
   "execution_count": 13,
   "metadata": {},
   "outputs": [
    {
     "name": "stdout",
     "output_type": "stream",
     "text": [
      "Table number-3\n",
      "food item - pizza, qty-1,price-300 INR,subtotal-300\n",
      "food item - sandwich, qty-2,price-80 INR,subtotal-160\n",
      "final Bill is:460 INR\n"
     ]
    }
   ],
   "source": [
    "c2=hotel_bill(\n",
    "    table_no=3,\n",
    "    pizza=1,\n",
    "    sandwich=2\n",
    ")"
   ]
  }
 ],
 "metadata": {
  "kernelspec": {
   "display_name": "venv",
   "language": "python",
   "name": "python3"
  },
  "language_info": {
   "codemirror_mode": {
    "name": "ipython",
    "version": 3
   },
   "file_extension": ".py",
   "mimetype": "text/x-python",
   "name": "python",
   "nbconvert_exporter": "python",
   "pygments_lexer": "ipython3",
   "version": "3.12.6"
  }
 },
 "nbformat": 4,
 "nbformat_minor": 2
}
